{
 "cells": [
  {
   "cell_type": "code",
   "execution_count": null,
   "id": "9944d1f4-c9a1-4e11-9848-e70ae7cdebfd",
   "metadata": {},
   "outputs": [],
   "source": [
    "num_pipeline = Pipeline([\n",
    "    (\"imputer\", SimpleImputer(strategy=\"median\")),\n",
    "    (\"attribs_adder\", CombinedAttributesAdder()),\n",
    "    (\"std_scaler\", StandardScaler())\n",
    "])\n",
    "\n",
    "# num_pipeline.set_params(attribs_adder__add_bedrooms_per_room=False)\n",
    "# num_pipeline.fit_transform(housing_num)"
   ]
  },
  {
   "cell_type": "code",
   "execution_count": null,
   "id": "1978bed3-9224-4064-8985-0b01057584ab",
   "metadata": {},
   "outputs": [
    {
     "data": {
      "text/plain": [
       "['INLAND', 'NEAR OCEAN', '<1H OCEAN', 'NEAR BAY', 'ISLAND']"
      ]
     },
     "execution_count": 288,
     "metadata": {},
     "output_type": "execute_result"
    }
   ],
   "source": [
    "num_attribs = list(housing_num)\n",
    "cat_attribs = list(housing[\"ocean_proximity\"].unique())\n",
    "\n",
    "full_pipeline = ColumnTransformer([\n",
    "    (\"num\", num_pipeline, num_attribs),\n",
    "    (\"cat\", \"passthrough\", cat_attribs)\n",
    "])\n",
    "\n",
    "cat_attribs\n",
    "\n",
    "# full_pipeline.set_params(num__attribs_adder__add_bedrooms_per_room=True)\n",
    "# housing_prepared_2 = full_pipeline.fit_transform(housing)"
   ]
  },
  {
   "cell_type": "code",
   "execution_count": null,
   "id": "4c7b57e7-91b7-4d84-b07b-3c52c2e28e00",
   "metadata": {},
   "outputs": [],
   "source": [
    "forest_reg = RandomForestRegressor(random_state=42)\n",
    "\n",
    "final_pipeline = Pipeline([\n",
    "    (\"transformations\", full_pipeline),\n",
    "    (\"model\", forest_reg)\n",
    "])\n",
    "\n",
    "# final_pipeline.set_params(model__n_estimators = 2)\n",
    "# final_pipeline.fit(housing, housing_labels)"
   ]
  },
  {
   "cell_type": "code",
   "execution_count": null,
   "id": "99f4a722-07d1-4cc1-a7cd-2288e3f95937",
   "metadata": {},
   "outputs": [],
   "source": []
  },
  {
   "cell_type": "code",
   "execution_count": null,
   "id": "6c57d504-1591-4c00-9a38-1fef719076d5",
   "metadata": {},
   "outputs": [],
   "source": [
    "one_hot_encoder = OneHotEncoder()\n",
    "housing_treated = one_hot_encoder.fit_transform(housing[[\"ocean_proximity\"]])\n",
    "\n",
    "housing[one_hot_encoder.categories_[0]] = housing_treated.toarray() "
   ]
  },
  {
   "cell_type": "code",
   "execution_count": null,
   "id": "2568b267-ca13-40e5-86d1-dde83076e05f",
   "metadata": {},
   "outputs": [
    {
     "data": {
      "text/html": [
       "<div>\n",
       "<style scoped>\n",
       "    .dataframe tbody tr th:only-of-type {\n",
       "        vertical-align: middle;\n",
       "    }\n",
       "\n",
       "    .dataframe tbody tr th {\n",
       "        vertical-align: top;\n",
       "    }\n",
       "\n",
       "    .dataframe thead th {\n",
       "        text-align: right;\n",
       "    }\n",
       "</style>\n",
       "<table border=\"1\" class=\"dataframe\">\n",
       "  <thead>\n",
       "    <tr style=\"text-align: right;\">\n",
       "      <th></th>\n",
       "      <th>longitude</th>\n",
       "      <th>latitude</th>\n",
       "      <th>housing_median_age</th>\n",
       "      <th>total_rooms</th>\n",
       "      <th>total_bedrooms</th>\n",
       "      <th>population</th>\n",
       "      <th>households</th>\n",
       "      <th>median_income</th>\n",
       "      <th>median_house_value</th>\n",
       "      <th>&lt;1H OCEAN</th>\n",
       "      <th>INLAND</th>\n",
       "      <th>ISLAND</th>\n",
       "      <th>NEAR BAY</th>\n",
       "      <th>NEAR OCEAN</th>\n",
       "    </tr>\n",
       "  </thead>\n",
       "  <tbody>\n",
       "    <tr>\n",
       "      <th>12655</th>\n",
       "      <td>-121.46</td>\n",
       "      <td>38.52</td>\n",
       "      <td>29.0</td>\n",
       "      <td>3873.0</td>\n",
       "      <td>797.0</td>\n",
       "      <td>2237.0</td>\n",
       "      <td>706.0</td>\n",
       "      <td>2.1736</td>\n",
       "      <td>72100.0</td>\n",
       "      <td>0.0</td>\n",
       "      <td>1.0</td>\n",
       "      <td>0.0</td>\n",
       "      <td>0.0</td>\n",
       "      <td>0.0</td>\n",
       "    </tr>\n",
       "    <tr>\n",
       "      <th>15502</th>\n",
       "      <td>-117.23</td>\n",
       "      <td>33.09</td>\n",
       "      <td>7.0</td>\n",
       "      <td>5320.0</td>\n",
       "      <td>855.0</td>\n",
       "      <td>2015.0</td>\n",
       "      <td>768.0</td>\n",
       "      <td>6.3373</td>\n",
       "      <td>279600.0</td>\n",
       "      <td>0.0</td>\n",
       "      <td>0.0</td>\n",
       "      <td>0.0</td>\n",
       "      <td>0.0</td>\n",
       "      <td>1.0</td>\n",
       "    </tr>\n",
       "    <tr>\n",
       "      <th>2908</th>\n",
       "      <td>-119.04</td>\n",
       "      <td>35.37</td>\n",
       "      <td>44.0</td>\n",
       "      <td>1618.0</td>\n",
       "      <td>310.0</td>\n",
       "      <td>667.0</td>\n",
       "      <td>300.0</td>\n",
       "      <td>2.8750</td>\n",
       "      <td>82700.0</td>\n",
       "      <td>0.0</td>\n",
       "      <td>1.0</td>\n",
       "      <td>0.0</td>\n",
       "      <td>0.0</td>\n",
       "      <td>0.0</td>\n",
       "    </tr>\n",
       "    <tr>\n",
       "      <th>14053</th>\n",
       "      <td>-117.13</td>\n",
       "      <td>32.75</td>\n",
       "      <td>24.0</td>\n",
       "      <td>1877.0</td>\n",
       "      <td>519.0</td>\n",
       "      <td>898.0</td>\n",
       "      <td>483.0</td>\n",
       "      <td>2.2264</td>\n",
       "      <td>112500.0</td>\n",
       "      <td>0.0</td>\n",
       "      <td>0.0</td>\n",
       "      <td>0.0</td>\n",
       "      <td>0.0</td>\n",
       "      <td>1.0</td>\n",
       "    </tr>\n",
       "    <tr>\n",
       "      <th>20496</th>\n",
       "      <td>-118.70</td>\n",
       "      <td>34.28</td>\n",
       "      <td>27.0</td>\n",
       "      <td>3536.0</td>\n",
       "      <td>646.0</td>\n",
       "      <td>1837.0</td>\n",
       "      <td>580.0</td>\n",
       "      <td>4.4964</td>\n",
       "      <td>238300.0</td>\n",
       "      <td>1.0</td>\n",
       "      <td>0.0</td>\n",
       "      <td>0.0</td>\n",
       "      <td>0.0</td>\n",
       "      <td>0.0</td>\n",
       "    </tr>\n",
       "    <tr>\n",
       "      <th>...</th>\n",
       "      <td>...</td>\n",
       "      <td>...</td>\n",
       "      <td>...</td>\n",
       "      <td>...</td>\n",
       "      <td>...</td>\n",
       "      <td>...</td>\n",
       "      <td>...</td>\n",
       "      <td>...</td>\n",
       "      <td>...</td>\n",
       "      <td>...</td>\n",
       "      <td>...</td>\n",
       "      <td>...</td>\n",
       "      <td>...</td>\n",
       "      <td>...</td>\n",
       "    </tr>\n",
       "    <tr>\n",
       "      <th>15174</th>\n",
       "      <td>-117.07</td>\n",
       "      <td>33.03</td>\n",
       "      <td>14.0</td>\n",
       "      <td>6665.0</td>\n",
       "      <td>1231.0</td>\n",
       "      <td>2026.0</td>\n",
       "      <td>1001.0</td>\n",
       "      <td>5.0900</td>\n",
       "      <td>268500.0</td>\n",
       "      <td>1.0</td>\n",
       "      <td>0.0</td>\n",
       "      <td>0.0</td>\n",
       "      <td>0.0</td>\n",
       "      <td>0.0</td>\n",
       "    </tr>\n",
       "    <tr>\n",
       "      <th>12661</th>\n",
       "      <td>-121.42</td>\n",
       "      <td>38.51</td>\n",
       "      <td>15.0</td>\n",
       "      <td>7901.0</td>\n",
       "      <td>1422.0</td>\n",
       "      <td>4769.0</td>\n",
       "      <td>1418.0</td>\n",
       "      <td>2.8139</td>\n",
       "      <td>90400.0</td>\n",
       "      <td>0.0</td>\n",
       "      <td>1.0</td>\n",
       "      <td>0.0</td>\n",
       "      <td>0.0</td>\n",
       "      <td>0.0</td>\n",
       "    </tr>\n",
       "    <tr>\n",
       "      <th>19263</th>\n",
       "      <td>-122.72</td>\n",
       "      <td>38.44</td>\n",
       "      <td>48.0</td>\n",
       "      <td>707.0</td>\n",
       "      <td>166.0</td>\n",
       "      <td>458.0</td>\n",
       "      <td>172.0</td>\n",
       "      <td>3.1797</td>\n",
       "      <td>140400.0</td>\n",
       "      <td>1.0</td>\n",
       "      <td>0.0</td>\n",
       "      <td>0.0</td>\n",
       "      <td>0.0</td>\n",
       "      <td>0.0</td>\n",
       "    </tr>\n",
       "    <tr>\n",
       "      <th>19140</th>\n",
       "      <td>-122.70</td>\n",
       "      <td>38.31</td>\n",
       "      <td>14.0</td>\n",
       "      <td>3155.0</td>\n",
       "      <td>580.0</td>\n",
       "      <td>1208.0</td>\n",
       "      <td>501.0</td>\n",
       "      <td>4.1964</td>\n",
       "      <td>258100.0</td>\n",
       "      <td>1.0</td>\n",
       "      <td>0.0</td>\n",
       "      <td>0.0</td>\n",
       "      <td>0.0</td>\n",
       "      <td>0.0</td>\n",
       "    </tr>\n",
       "    <tr>\n",
       "      <th>19773</th>\n",
       "      <td>-122.14</td>\n",
       "      <td>39.97</td>\n",
       "      <td>27.0</td>\n",
       "      <td>1079.0</td>\n",
       "      <td>222.0</td>\n",
       "      <td>625.0</td>\n",
       "      <td>197.0</td>\n",
       "      <td>3.1319</td>\n",
       "      <td>62700.0</td>\n",
       "      <td>0.0</td>\n",
       "      <td>1.0</td>\n",
       "      <td>0.0</td>\n",
       "      <td>0.0</td>\n",
       "      <td>0.0</td>\n",
       "    </tr>\n",
       "  </tbody>\n",
       "</table>\n",
       "<p>16512 rows × 14 columns</p>\n",
       "</div>"
      ],
      "text/plain": [
       "       longitude  latitude  housing_median_age  total_rooms  total_bedrooms  \\\n",
       "12655    -121.46     38.52                29.0       3873.0           797.0   \n",
       "15502    -117.23     33.09                 7.0       5320.0           855.0   \n",
       "2908     -119.04     35.37                44.0       1618.0           310.0   \n",
       "14053    -117.13     32.75                24.0       1877.0           519.0   \n",
       "20496    -118.70     34.28                27.0       3536.0           646.0   \n",
       "...          ...       ...                 ...          ...             ...   \n",
       "15174    -117.07     33.03                14.0       6665.0          1231.0   \n",
       "12661    -121.42     38.51                15.0       7901.0          1422.0   \n",
       "19263    -122.72     38.44                48.0        707.0           166.0   \n",
       "19140    -122.70     38.31                14.0       3155.0           580.0   \n",
       "19773    -122.14     39.97                27.0       1079.0           222.0   \n",
       "\n",
       "       population  households  median_income  median_house_value  <1H OCEAN  \\\n",
       "12655      2237.0       706.0         2.1736             72100.0        0.0   \n",
       "15502      2015.0       768.0         6.3373            279600.0        0.0   \n",
       "2908        667.0       300.0         2.8750             82700.0        0.0   \n",
       "14053       898.0       483.0         2.2264            112500.0        0.0   \n",
       "20496      1837.0       580.0         4.4964            238300.0        1.0   \n",
       "...           ...         ...            ...                 ...        ...   \n",
       "15174      2026.0      1001.0         5.0900            268500.0        1.0   \n",
       "12661      4769.0      1418.0         2.8139             90400.0        0.0   \n",
       "19263       458.0       172.0         3.1797            140400.0        1.0   \n",
       "19140      1208.0       501.0         4.1964            258100.0        1.0   \n",
       "19773       625.0       197.0         3.1319             62700.0        0.0   \n",
       "\n",
       "       INLAND  ISLAND  NEAR BAY  NEAR OCEAN  \n",
       "12655     1.0     0.0       0.0         0.0  \n",
       "15502     0.0     0.0       0.0         1.0  \n",
       "2908      1.0     0.0       0.0         0.0  \n",
       "14053     0.0     0.0       0.0         1.0  \n",
       "20496     0.0     0.0       0.0         0.0  \n",
       "...       ...     ...       ...         ...  \n",
       "15174     0.0     0.0       0.0         0.0  \n",
       "12661     1.0     0.0       0.0         0.0  \n",
       "19263     0.0     0.0       0.0         0.0  \n",
       "19140     0.0     0.0       0.0         0.0  \n",
       "19773     1.0     0.0       0.0         0.0  \n",
       "\n",
       "[16512 rows x 14 columns]"
      ]
     },
     "execution_count": 291,
     "metadata": {},
     "output_type": "execute_result"
    }
   ],
   "source": [
    "housing_ready = housing.drop(\"ocean_proximity\", axis=1)\n",
    "housing_ready"
   ]
  },
  {
   "cell_type": "code",
   "execution_count": null,
   "id": "c27d6c6b-1ce7-43ba-a96b-5b9f1aec55ef",
   "metadata": {},
   "outputs": [],
   "source": [
    "# housing_prepared[0]"
   ]
  },
  {
   "cell_type": "code",
   "execution_count": null,
   "id": "ec75c6be-0f69-48d7-b6c6-e6bcb82bb992",
   "metadata": {},
   "outputs": [],
   "source": [
    "# full_pipeline.fit_transform(housing_ready)[0]"
   ]
  },
  {
   "cell_type": "code",
   "execution_count": null,
   "id": "5ea2b4c6-bd69-4c81-9852-b30c68c649e8",
   "metadata": {},
   "outputs": [
    {
     "data": {
      "text/plain": [
       "GridSearchCV(cv=5,\n",
       "             estimator=Pipeline(steps=[('transformations',\n",
       "                                        ColumnTransformer(transformers=[('num',\n",
       "                                                                         Pipeline(steps=[('imputer',\n",
       "                                                                                          SimpleImputer(strategy='median')),\n",
       "                                                                                         ('attribs_adder',\n",
       "                                                                                          CombinedAttributesAdder()),\n",
       "                                                                                         ('std_scaler',\n",
       "                                                                                          StandardScaler())]),\n",
       "                                                                         ['longitude',\n",
       "                                                                          'latitude',\n",
       "                                                                          'housing_median_age',\n",
       "                                                                          'total_rooms',\n",
       "                                                                          'total_bedrooms',\n",
       "                                                                          'population',\n",
       "                                                                          'households',\n",
       "                                                                          'median_income']),\n",
       "                                                                        ('cat',\n",
       "                                                                         'passthrough',\n",
       "                                                                         ['INLAND',\n",
       "                                                                          'NEAR '\n",
       "                                                                          'OCEAN',\n",
       "                                                                          '<1H '\n",
       "                                                                          'OCEAN',\n",
       "                                                                          'NEAR '\n",
       "                                                                          'BAY',\n",
       "                                                                          'ISLAND'])])),\n",
       "                                       ('model',\n",
       "                                        RandomForestRegressor(random_state=42))]),\n",
       "             param_grid=[{'model__max_features': [2, 4, 6, 8],\n",
       "                          'model__n_estimators': [3, 10, 30],\n",
       "                          'transformations__num__attribs_adder__add_bedrooms_per_room': [False]}],\n",
       "             return_train_score=True, scoring='neg_mean_squared_error')"
      ]
     },
     "execution_count": 299,
     "metadata": {},
     "output_type": "execute_result"
    }
   ],
   "source": [
    "param_grid = [\n",
    "    {\"model__n_estimators\": [3, 10, 30], 'model__max_features': [2, 4, 6, 8], \"transformations__num__attribs_adder__add_bedrooms_per_room\": [False]},\n",
    "    # {'model__bootstrap': [False], 'model__n_estimators': [3, 10], 'model__max_features': [2, 3, 4]}\n",
    "]\n",
    "\n",
    "\n",
    "grid_search = GridSearchCV(final_pipeline, param_grid, cv=5, scoring=\"neg_mean_squared_error\", return_train_score = True)\n",
    "\n",
    "grid_search.fit(housing_ready, housing_labels)"
   ]
  },
  {
   "cell_type": "code",
   "execution_count": null,
   "id": "33ce13d7-6f73-4188-8b8e-cd55e2abc391",
   "metadata": {},
   "outputs": [
    {
     "data": {
      "text/plain": [
       "{'model__max_features': 6,\n",
       " 'model__n_estimators': 30,\n",
       " 'transformations__num__attribs_adder__add_bedrooms_per_room': False}"
      ]
     },
     "execution_count": 300,
     "metadata": {},
     "output_type": "execute_result"
    }
   ],
   "source": [
    "grid_search.best_params_"
   ]
  },
  {
   "cell_type": "code",
   "execution_count": null,
   "id": "ee86c303-d07f-4da1-8bda-c89d368c9fbd",
   "metadata": {},
   "outputs": [
    {
     "data": {
      "text/plain": [
       "15"
      ]
     },
     "execution_count": 301,
     "metadata": {},
     "output_type": "execute_result"
    }
   ],
   "source": [
    "grid_search.best_estimator_.named_steps[\"transformations\"].transform(housing_ready).shape[1]"
   ]
  },
  {
   "cell_type": "code",
   "execution_count": null,
   "id": "02f5c67a-df52-4612-8004-6e8b2aae16e7",
   "metadata": {},
   "outputs": [
    {
     "data": {
      "text/plain": [
       "array(['longitude', 'latitude', 'housing_median_age', 'total_rooms',\n",
       "       'total_bedrooms', 'population', 'households', 'median_income',\n",
       "       'median_house_value', '<1H OCEAN', 'INLAND', 'ISLAND', 'NEAR BAY',\n",
       "       'NEAR OCEAN'], dtype=object)"
      ]
     },
     "execution_count": 302,
     "metadata": {},
     "output_type": "execute_result"
    }
   ],
   "source": [
    "grid_search.feature_names_in_"
   ]
  },
  {
   "cell_type": "code",
   "execution_count": null,
   "id": "0edc6602-6345-4211-b4c1-0519d4883fd5",
   "metadata": {},
   "outputs": [
    {
     "data": {
      "text/plain": [
       "14"
      ]
     },
     "execution_count": 303,
     "metadata": {},
     "output_type": "execute_result"
    }
   ],
   "source": [
    "grid_search.n_features_in_"
   ]
  },
  {
   "cell_type": "code",
   "execution_count": null,
   "id": "ed7a5b13-bf4a-4d6b-ac69-e38f22e38789",
   "metadata": {},
   "outputs": [
    {
     "name": "stdout",
     "output_type": "stream",
     "text": [
      "63575.9739672717 {'model__max_features': 2, 'model__n_estimators': 3, 'transformations__num__attribs_adder__add_bedrooms_per_room': False}\n",
      "55934.295008652516 {'model__max_features': 2, 'model__n_estimators': 10, 'transformations__num__attribs_adder__add_bedrooms_per_room': False}\n",
      "52528.2390678022 {'model__max_features': 2, 'model__n_estimators': 30, 'transformations__num__attribs_adder__add_bedrooms_per_room': False}\n",
      "58874.541629771884 {'model__max_features': 4, 'model__n_estimators': 3, 'transformations__num__attribs_adder__add_bedrooms_per_room': False}\n",
      "51945.43067586159 {'model__max_features': 4, 'model__n_estimators': 10, 'transformations__num__attribs_adder__add_bedrooms_per_room': False}\n",
      "49420.54023703712 {'model__max_features': 4, 'model__n_estimators': 30, 'transformations__num__attribs_adder__add_bedrooms_per_room': False}\n",
      "58791.25871270213 {'model__max_features': 6, 'model__n_estimators': 3, 'transformations__num__attribs_adder__add_bedrooms_per_room': False}\n",
      "51656.9318014044 {'model__max_features': 6, 'model__n_estimators': 10, 'transformations__num__attribs_adder__add_bedrooms_per_room': False}\n",
      "49261.86960607456 {'model__max_features': 6, 'model__n_estimators': 30, 'transformations__num__attribs_adder__add_bedrooms_per_room': False}\n",
      "57809.890137040245 {'model__max_features': 8, 'model__n_estimators': 3, 'transformations__num__attribs_adder__add_bedrooms_per_room': False}\n",
      "51988.846786614566 {'model__max_features': 8, 'model__n_estimators': 10, 'transformations__num__attribs_adder__add_bedrooms_per_room': False}\n",
      "49985.547058081094 {'model__max_features': 8, 'model__n_estimators': 30, 'transformations__num__attribs_adder__add_bedrooms_per_room': False}\n"
     ]
    }
   ],
   "source": [
    "cvres = grid_search.cv_results_\n",
    "for mean_test_score, params in zip(cvres[\"mean_test_score\"], cvres[\"params\"]):\n",
    "    print(np.sqrt(-mean_test_score), params)"
   ]
  },
  {
   "cell_type": "code",
   "execution_count": null,
   "id": "5bb1e127-e287-4259-be06-334746fe173f",
   "metadata": {},
   "outputs": [],
   "source": [
    "num_pipeline = Pipeline([\n",
    "    (\"imputer\", SimpleImputer(strategy=\"median\")),\n",
    "    (\"attribs_adder\", CombinedAttributesAdder()),\n",
    "    (\"std_scaler\", StandardScaler())\n",
    "])\n",
    "\n",
    "# num_pipeline.set_params(attribs_adder__add_bedrooms_per_room=False)\n",
    "# num_pipeline.fit_transform(housing_num)"
   ]
  },
  {
   "cell_type": "code",
   "execution_count": null,
   "id": "eb6f9c47-adf3-4d1b-98c1-d5996a441074",
   "metadata": {},
   "outputs": [
    {
     "data": {
      "text/plain": [
       "['INLAND', 'NEAR OCEAN', '<1H OCEAN', 'NEAR BAY', 'ISLAND']"
      ]
     },
     "execution_count": 288,
     "metadata": {},
     "output_type": "execute_result"
    }
   ],
   "source": [
    "num_attribs = list(housing_num)\n",
    "cat_attribs = list(housing[\"ocean_proximity\"].unique())\n",
    "\n",
    "full_pipeline = ColumnTransformer([\n",
    "    (\"num\", num_pipeline, num_attribs),\n",
    "    (\"cat\", \"passthrough\", cat_attribs)\n",
    "])\n",
    "\n",
    "cat_attribs\n",
    "\n",
    "# full_pipeline.set_params(num__attribs_adder__add_bedrooms_per_room=True)\n",
    "# housing_prepared_2 = full_pipeline.fit_transform(housing)"
   ]
  },
  {
   "cell_type": "code",
   "execution_count": null,
   "id": "a5021f37-4858-43b9-8565-8c98805b3346",
   "metadata": {},
   "outputs": [],
   "source": [
    "forest_reg = RandomForestRegressor(random_state=42)\n",
    "\n",
    "final_pipeline = Pipeline([\n",
    "    (\"transformations\", full_pipeline),\n",
    "    (\"model\", forest_reg)\n",
    "])\n",
    "\n",
    "# final_pipeline.set_params(model__n_estimators = 2)\n",
    "# final_pipeline.fit(housing, housing_labels)"
   ]
  },
  {
   "cell_type": "code",
   "execution_count": null,
   "id": "cb677668-908e-49c3-baf7-e5f753ca5a2c",
   "metadata": {},
   "outputs": [],
   "source": []
  },
  {
   "cell_type": "code",
   "execution_count": null,
   "id": "6b1315d7-cf15-4e30-b5c4-79d8515bdfcf",
   "metadata": {},
   "outputs": [],
   "source": [
    "one_hot_encoder = OneHotEncoder()\n",
    "housing_treated = one_hot_encoder.fit_transform(housing[[\"ocean_proximity\"]])\n",
    "\n",
    "housing[one_hot_encoder.categories_[0]] = housing_treated.toarray() "
   ]
  },
  {
   "cell_type": "code",
   "execution_count": null,
   "id": "708dc773-40f7-4aea-a05e-68a5ac9e13f0",
   "metadata": {},
   "outputs": [
    {
     "data": {
      "text/html": [
       "<div>\n",
       "<style scoped>\n",
       "    .dataframe tbody tr th:only-of-type {\n",
       "        vertical-align: middle;\n",
       "    }\n",
       "\n",
       "    .dataframe tbody tr th {\n",
       "        vertical-align: top;\n",
       "    }\n",
       "\n",
       "    .dataframe thead th {\n",
       "        text-align: right;\n",
       "    }\n",
       "</style>\n",
       "<table border=\"1\" class=\"dataframe\">\n",
       "  <thead>\n",
       "    <tr style=\"text-align: right;\">\n",
       "      <th></th>\n",
       "      <th>longitude</th>\n",
       "      <th>latitude</th>\n",
       "      <th>housing_median_age</th>\n",
       "      <th>total_rooms</th>\n",
       "      <th>total_bedrooms</th>\n",
       "      <th>population</th>\n",
       "      <th>households</th>\n",
       "      <th>median_income</th>\n",
       "      <th>median_house_value</th>\n",
       "      <th>&lt;1H OCEAN</th>\n",
       "      <th>INLAND</th>\n",
       "      <th>ISLAND</th>\n",
       "      <th>NEAR BAY</th>\n",
       "      <th>NEAR OCEAN</th>\n",
       "    </tr>\n",
       "  </thead>\n",
       "  <tbody>\n",
       "    <tr>\n",
       "      <th>12655</th>\n",
       "      <td>-121.46</td>\n",
       "      <td>38.52</td>\n",
       "      <td>29.0</td>\n",
       "      <td>3873.0</td>\n",
       "      <td>797.0</td>\n",
       "      <td>2237.0</td>\n",
       "      <td>706.0</td>\n",
       "      <td>2.1736</td>\n",
       "      <td>72100.0</td>\n",
       "      <td>0.0</td>\n",
       "      <td>1.0</td>\n",
       "      <td>0.0</td>\n",
       "      <td>0.0</td>\n",
       "      <td>0.0</td>\n",
       "    </tr>\n",
       "    <tr>\n",
       "      <th>15502</th>\n",
       "      <td>-117.23</td>\n",
       "      <td>33.09</td>\n",
       "      <td>7.0</td>\n",
       "      <td>5320.0</td>\n",
       "      <td>855.0</td>\n",
       "      <td>2015.0</td>\n",
       "      <td>768.0</td>\n",
       "      <td>6.3373</td>\n",
       "      <td>279600.0</td>\n",
       "      <td>0.0</td>\n",
       "      <td>0.0</td>\n",
       "      <td>0.0</td>\n",
       "      <td>0.0</td>\n",
       "      <td>1.0</td>\n",
       "    </tr>\n",
       "    <tr>\n",
       "      <th>2908</th>\n",
       "      <td>-119.04</td>\n",
       "      <td>35.37</td>\n",
       "      <td>44.0</td>\n",
       "      <td>1618.0</td>\n",
       "      <td>310.0</td>\n",
       "      <td>667.0</td>\n",
       "      <td>300.0</td>\n",
       "      <td>2.8750</td>\n",
       "      <td>82700.0</td>\n",
       "      <td>0.0</td>\n",
       "      <td>1.0</td>\n",
       "      <td>0.0</td>\n",
       "      <td>0.0</td>\n",
       "      <td>0.0</td>\n",
       "    </tr>\n",
       "    <tr>\n",
       "      <th>14053</th>\n",
       "      <td>-117.13</td>\n",
       "      <td>32.75</td>\n",
       "      <td>24.0</td>\n",
       "      <td>1877.0</td>\n",
       "      <td>519.0</td>\n",
       "      <td>898.0</td>\n",
       "      <td>483.0</td>\n",
       "      <td>2.2264</td>\n",
       "      <td>112500.0</td>\n",
       "      <td>0.0</td>\n",
       "      <td>0.0</td>\n",
       "      <td>0.0</td>\n",
       "      <td>0.0</td>\n",
       "      <td>1.0</td>\n",
       "    </tr>\n",
       "    <tr>\n",
       "      <th>20496</th>\n",
       "      <td>-118.70</td>\n",
       "      <td>34.28</td>\n",
       "      <td>27.0</td>\n",
       "      <td>3536.0</td>\n",
       "      <td>646.0</td>\n",
       "      <td>1837.0</td>\n",
       "      <td>580.0</td>\n",
       "      <td>4.4964</td>\n",
       "      <td>238300.0</td>\n",
       "      <td>1.0</td>\n",
       "      <td>0.0</td>\n",
       "      <td>0.0</td>\n",
       "      <td>0.0</td>\n",
       "      <td>0.0</td>\n",
       "    </tr>\n",
       "    <tr>\n",
       "      <th>...</th>\n",
       "      <td>...</td>\n",
       "      <td>...</td>\n",
       "      <td>...</td>\n",
       "      <td>...</td>\n",
       "      <td>...</td>\n",
       "      <td>...</td>\n",
       "      <td>...</td>\n",
       "      <td>...</td>\n",
       "      <td>...</td>\n",
       "      <td>...</td>\n",
       "      <td>...</td>\n",
       "      <td>...</td>\n",
       "      <td>...</td>\n",
       "      <td>...</td>\n",
       "    </tr>\n",
       "    <tr>\n",
       "      <th>15174</th>\n",
       "      <td>-117.07</td>\n",
       "      <td>33.03</td>\n",
       "      <td>14.0</td>\n",
       "      <td>6665.0</td>\n",
       "      <td>1231.0</td>\n",
       "      <td>2026.0</td>\n",
       "      <td>1001.0</td>\n",
       "      <td>5.0900</td>\n",
       "      <td>268500.0</td>\n",
       "      <td>1.0</td>\n",
       "      <td>0.0</td>\n",
       "      <td>0.0</td>\n",
       "      <td>0.0</td>\n",
       "      <td>0.0</td>\n",
       "    </tr>\n",
       "    <tr>\n",
       "      <th>12661</th>\n",
       "      <td>-121.42</td>\n",
       "      <td>38.51</td>\n",
       "      <td>15.0</td>\n",
       "      <td>7901.0</td>\n",
       "      <td>1422.0</td>\n",
       "      <td>4769.0</td>\n",
       "      <td>1418.0</td>\n",
       "      <td>2.8139</td>\n",
       "      <td>90400.0</td>\n",
       "      <td>0.0</td>\n",
       "      <td>1.0</td>\n",
       "      <td>0.0</td>\n",
       "      <td>0.0</td>\n",
       "      <td>0.0</td>\n",
       "    </tr>\n",
       "    <tr>\n",
       "      <th>19263</th>\n",
       "      <td>-122.72</td>\n",
       "      <td>38.44</td>\n",
       "      <td>48.0</td>\n",
       "      <td>707.0</td>\n",
       "      <td>166.0</td>\n",
       "      <td>458.0</td>\n",
       "      <td>172.0</td>\n",
       "      <td>3.1797</td>\n",
       "      <td>140400.0</td>\n",
       "      <td>1.0</td>\n",
       "      <td>0.0</td>\n",
       "      <td>0.0</td>\n",
       "      <td>0.0</td>\n",
       "      <td>0.0</td>\n",
       "    </tr>\n",
       "    <tr>\n",
       "      <th>19140</th>\n",
       "      <td>-122.70</td>\n",
       "      <td>38.31</td>\n",
       "      <td>14.0</td>\n",
       "      <td>3155.0</td>\n",
       "      <td>580.0</td>\n",
       "      <td>1208.0</td>\n",
       "      <td>501.0</td>\n",
       "      <td>4.1964</td>\n",
       "      <td>258100.0</td>\n",
       "      <td>1.0</td>\n",
       "      <td>0.0</td>\n",
       "      <td>0.0</td>\n",
       "      <td>0.0</td>\n",
       "      <td>0.0</td>\n",
       "    </tr>\n",
       "    <tr>\n",
       "      <th>19773</th>\n",
       "      <td>-122.14</td>\n",
       "      <td>39.97</td>\n",
       "      <td>27.0</td>\n",
       "      <td>1079.0</td>\n",
       "      <td>222.0</td>\n",
       "      <td>625.0</td>\n",
       "      <td>197.0</td>\n",
       "      <td>3.1319</td>\n",
       "      <td>62700.0</td>\n",
       "      <td>0.0</td>\n",
       "      <td>1.0</td>\n",
       "      <td>0.0</td>\n",
       "      <td>0.0</td>\n",
       "      <td>0.0</td>\n",
       "    </tr>\n",
       "  </tbody>\n",
       "</table>\n",
       "<p>16512 rows × 14 columns</p>\n",
       "</div>"
      ],
      "text/plain": [
       "       longitude  latitude  housing_median_age  total_rooms  total_bedrooms  \\\n",
       "12655    -121.46     38.52                29.0       3873.0           797.0   \n",
       "15502    -117.23     33.09                 7.0       5320.0           855.0   \n",
       "2908     -119.04     35.37                44.0       1618.0           310.0   \n",
       "14053    -117.13     32.75                24.0       1877.0           519.0   \n",
       "20496    -118.70     34.28                27.0       3536.0           646.0   \n",
       "...          ...       ...                 ...          ...             ...   \n",
       "15174    -117.07     33.03                14.0       6665.0          1231.0   \n",
       "12661    -121.42     38.51                15.0       7901.0          1422.0   \n",
       "19263    -122.72     38.44                48.0        707.0           166.0   \n",
       "19140    -122.70     38.31                14.0       3155.0           580.0   \n",
       "19773    -122.14     39.97                27.0       1079.0           222.0   \n",
       "\n",
       "       population  households  median_income  median_house_value  <1H OCEAN  \\\n",
       "12655      2237.0       706.0         2.1736             72100.0        0.0   \n",
       "15502      2015.0       768.0         6.3373            279600.0        0.0   \n",
       "2908        667.0       300.0         2.8750             82700.0        0.0   \n",
       "14053       898.0       483.0         2.2264            112500.0        0.0   \n",
       "20496      1837.0       580.0         4.4964            238300.0        1.0   \n",
       "...           ...         ...            ...                 ...        ...   \n",
       "15174      2026.0      1001.0         5.0900            268500.0        1.0   \n",
       "12661      4769.0      1418.0         2.8139             90400.0        0.0   \n",
       "19263       458.0       172.0         3.1797            140400.0        1.0   \n",
       "19140      1208.0       501.0         4.1964            258100.0        1.0   \n",
       "19773       625.0       197.0         3.1319             62700.0        0.0   \n",
       "\n",
       "       INLAND  ISLAND  NEAR BAY  NEAR OCEAN  \n",
       "12655     1.0     0.0       0.0         0.0  \n",
       "15502     0.0     0.0       0.0         1.0  \n",
       "2908      1.0     0.0       0.0         0.0  \n",
       "14053     0.0     0.0       0.0         1.0  \n",
       "20496     0.0     0.0       0.0         0.0  \n",
       "...       ...     ...       ...         ...  \n",
       "15174     0.0     0.0       0.0         0.0  \n",
       "12661     1.0     0.0       0.0         0.0  \n",
       "19263     0.0     0.0       0.0         0.0  \n",
       "19140     0.0     0.0       0.0         0.0  \n",
       "19773     1.0     0.0       0.0         0.0  \n",
       "\n",
       "[16512 rows x 14 columns]"
      ]
     },
     "execution_count": 291,
     "metadata": {},
     "output_type": "execute_result"
    }
   ],
   "source": [
    "housing_ready = housing.drop(\"ocean_proximity\", axis=1)\n",
    "housing_ready"
   ]
  },
  {
   "cell_type": "code",
   "execution_count": null,
   "id": "bc635977-fc46-42e4-950e-a39d5585965a",
   "metadata": {},
   "outputs": [],
   "source": [
    "# housing_prepared[0]"
   ]
  },
  {
   "cell_type": "code",
   "execution_count": null,
   "id": "42e8cb0e-2cf2-4777-867a-b9aec688bcf9",
   "metadata": {},
   "outputs": [],
   "source": [
    "# full_pipeline.fit_transform(housing_ready)[0]"
   ]
  },
  {
   "cell_type": "code",
   "execution_count": null,
   "id": "c5ab2a35-ab02-4354-ae27-641ec35f9f46",
   "metadata": {},
   "outputs": [
    {
     "data": {
      "text/plain": [
       "GridSearchCV(cv=5,\n",
       "             estimator=Pipeline(steps=[('transformations',\n",
       "                                        ColumnTransformer(transformers=[('num',\n",
       "                                                                         Pipeline(steps=[('imputer',\n",
       "                                                                                          SimpleImputer(strategy='median')),\n",
       "                                                                                         ('attribs_adder',\n",
       "                                                                                          CombinedAttributesAdder()),\n",
       "                                                                                         ('std_scaler',\n",
       "                                                                                          StandardScaler())]),\n",
       "                                                                         ['longitude',\n",
       "                                                                          'latitude',\n",
       "                                                                          'housing_median_age',\n",
       "                                                                          'total_rooms',\n",
       "                                                                          'total_bedrooms',\n",
       "                                                                          'population',\n",
       "                                                                          'households',\n",
       "                                                                          'median_income']),\n",
       "                                                                        ('cat',\n",
       "                                                                         'passthrough',\n",
       "                                                                         ['INLAND',\n",
       "                                                                          'NEAR '\n",
       "                                                                          'OCEAN',\n",
       "                                                                          '<1H '\n",
       "                                                                          'OCEAN',\n",
       "                                                                          'NEAR '\n",
       "                                                                          'BAY',\n",
       "                                                                          'ISLAND'])])),\n",
       "                                       ('model',\n",
       "                                        RandomForestRegressor(random_state=42))]),\n",
       "             param_grid=[{'model__max_features': [2, 4, 6, 8],\n",
       "                          'model__n_estimators': [3, 10, 30],\n",
       "                          'transformations__num__attribs_adder__add_bedrooms_per_room': [False]}],\n",
       "             return_train_score=True, scoring='neg_mean_squared_error')"
      ]
     },
     "execution_count": 299,
     "metadata": {},
     "output_type": "execute_result"
    }
   ],
   "source": [
    "param_grid = [\n",
    "    {\"model__n_estimators\": [3, 10, 30], 'model__max_features': [2, 4, 6, 8], \"transformations__num__attribs_adder__add_bedrooms_per_room\": [False]},\n",
    "    # {'model__bootstrap': [False], 'model__n_estimators': [3, 10], 'model__max_features': [2, 3, 4]}\n",
    "]\n",
    "\n",
    "\n",
    "grid_search = GridSearchCV(final_pipeline, param_grid, cv=5, scoring=\"neg_mean_squared_error\", return_train_score = True)\n",
    "\n",
    "grid_search.fit(housing_ready, housing_labels)"
   ]
  },
  {
   "cell_type": "code",
   "execution_count": null,
   "id": "5a15e21b-b38a-4fb5-8820-8568d990b40f",
   "metadata": {},
   "outputs": [
    {
     "data": {
      "text/plain": [
       "{'model__max_features': 6,\n",
       " 'model__n_estimators': 30,\n",
       " 'transformations__num__attribs_adder__add_bedrooms_per_room': False}"
      ]
     },
     "execution_count": 300,
     "metadata": {},
     "output_type": "execute_result"
    }
   ],
   "source": [
    "grid_search.best_params_"
   ]
  },
  {
   "cell_type": "code",
   "execution_count": null,
   "id": "1cbf4256-f9a0-4ebc-8cd3-5cc98161b543",
   "metadata": {},
   "outputs": [
    {
     "data": {
      "text/plain": [
       "15"
      ]
     },
     "execution_count": 301,
     "metadata": {},
     "output_type": "execute_result"
    }
   ],
   "source": [
    "grid_search.best_estimator_.named_steps[\"transformations\"].transform(housing_ready).shape[1]"
   ]
  },
  {
   "cell_type": "code",
   "execution_count": null,
   "id": "8324e69d-f646-4ff2-98a8-05f857107681",
   "metadata": {},
   "outputs": [
    {
     "data": {
      "text/plain": [
       "array(['longitude', 'latitude', 'housing_median_age', 'total_rooms',\n",
       "       'total_bedrooms', 'population', 'households', 'median_income',\n",
       "       'median_house_value', '<1H OCEAN', 'INLAND', 'ISLAND', 'NEAR BAY',\n",
       "       'NEAR OCEAN'], dtype=object)"
      ]
     },
     "execution_count": 302,
     "metadata": {},
     "output_type": "execute_result"
    }
   ],
   "source": [
    "grid_search.feature_names_in_"
   ]
  },
  {
   "cell_type": "code",
   "execution_count": null,
   "id": "2d7d4d84-f20f-4925-8aea-a5e12f438a88",
   "metadata": {},
   "outputs": [
    {
     "data": {
      "text/plain": [
       "14"
      ]
     },
     "execution_count": 303,
     "metadata": {},
     "output_type": "execute_result"
    }
   ],
   "source": [
    "grid_search.n_features_in_"
   ]
  },
  {
   "cell_type": "code",
   "execution_count": null,
   "id": "0c52c8c1-ab65-43c9-a6b1-c742b9d3321c",
   "metadata": {},
   "outputs": [
    {
     "name": "stdout",
     "output_type": "stream",
     "text": [
      "63575.9739672717 {'model__max_features': 2, 'model__n_estimators': 3, 'transformations__num__attribs_adder__add_bedrooms_per_room': False}\n",
      "55934.295008652516 {'model__max_features': 2, 'model__n_estimators': 10, 'transformations__num__attribs_adder__add_bedrooms_per_room': False}\n",
      "52528.2390678022 {'model__max_features': 2, 'model__n_estimators': 30, 'transformations__num__attribs_adder__add_bedrooms_per_room': False}\n",
      "58874.541629771884 {'model__max_features': 4, 'model__n_estimators': 3, 'transformations__num__attribs_adder__add_bedrooms_per_room': False}\n",
      "51945.43067586159 {'model__max_features': 4, 'model__n_estimators': 10, 'transformations__num__attribs_adder__add_bedrooms_per_room': False}\n",
      "49420.54023703712 {'model__max_features': 4, 'model__n_estimators': 30, 'transformations__num__attribs_adder__add_bedrooms_per_room': False}\n",
      "58791.25871270213 {'model__max_features': 6, 'model__n_estimators': 3, 'transformations__num__attribs_adder__add_bedrooms_per_room': False}\n",
      "51656.9318014044 {'model__max_features': 6, 'model__n_estimators': 10, 'transformations__num__attribs_adder__add_bedrooms_per_room': False}\n",
      "49261.86960607456 {'model__max_features': 6, 'model__n_estimators': 30, 'transformations__num__attribs_adder__add_bedrooms_per_room': False}\n",
      "57809.890137040245 {'model__max_features': 8, 'model__n_estimators': 3, 'transformations__num__attribs_adder__add_bedrooms_per_room': False}\n",
      "51988.846786614566 {'model__max_features': 8, 'model__n_estimators': 10, 'transformations__num__attribs_adder__add_bedrooms_per_room': False}\n",
      "49985.547058081094 {'model__max_features': 8, 'model__n_estimators': 30, 'transformations__num__attribs_adder__add_bedrooms_per_room': False}\n"
     ]
    }
   ],
   "source": [
    "cvres = grid_search.cv_results_\n",
    "for mean_test_score, params in zip(cvres[\"mean_test_score\"], cvres[\"params\"]):\n",
    "    print(np.sqrt(-mean_test_score), params)"
   ]
  },
  {
   "cell_type": "code",
   "execution_count": null,
   "id": "304f0795-7169-493b-9a49-19998e8b7063",
   "metadata": {},
   "outputs": [],
   "source": [
    "num_pipeline = Pipeline([\n",
    "    (\"imputer\", SimpleImputer(strategy=\"median\")),\n",
    "    (\"attribs_adder\", CombinedAttributesAdder()),\n",
    "    (\"std_scaler\", StandardScaler())\n",
    "])\n",
    "\n",
    "# num_pipeline.set_params(attribs_adder__add_bedrooms_per_room=False)\n",
    "# num_pipeline.fit_transform(housing_num)"
   ]
  },
  {
   "cell_type": "code",
   "execution_count": null,
   "id": "45562138-940b-494d-a1e6-84c0ce6e54c0",
   "metadata": {},
   "outputs": [
    {
     "data": {
      "text/plain": [
       "['INLAND', 'NEAR OCEAN', '<1H OCEAN', 'NEAR BAY', 'ISLAND']"
      ]
     },
     "execution_count": 288,
     "metadata": {},
     "output_type": "execute_result"
    }
   ],
   "source": [
    "num_attribs = list(housing_num)\n",
    "cat_attribs = list(housing[\"ocean_proximity\"].unique())\n",
    "\n",
    "full_pipeline = ColumnTransformer([\n",
    "    (\"num\", num_pipeline, num_attribs),\n",
    "    (\"cat\", \"passthrough\", cat_attribs)\n",
    "])\n",
    "\n",
    "cat_attribs\n",
    "\n",
    "# full_pipeline.set_params(num__attribs_adder__add_bedrooms_per_room=True)\n",
    "# housing_prepared_2 = full_pipeline.fit_transform(housing)"
   ]
  },
  {
   "cell_type": "code",
   "execution_count": null,
   "id": "41d7e36b-ce54-428f-bdac-fa967990c8a4",
   "metadata": {},
   "outputs": [],
   "source": [
    "forest_reg = RandomForestRegressor(random_state=42)\n",
    "\n",
    "final_pipeline = Pipeline([\n",
    "    (\"transformations\", full_pipeline),\n",
    "    (\"model\", forest_reg)\n",
    "])\n",
    "\n",
    "# final_pipeline.set_params(model__n_estimators = 2)\n",
    "# final_pipeline.fit(housing, housing_labels)"
   ]
  },
  {
   "cell_type": "code",
   "execution_count": null,
   "id": "72a6d438-77b7-42ce-b2ff-e8ec1dc09e4e",
   "metadata": {},
   "outputs": [],
   "source": []
  },
  {
   "cell_type": "code",
   "execution_count": null,
   "id": "ebb3be0d-2696-48dc-8407-70f609b682ff",
   "metadata": {},
   "outputs": [],
   "source": [
    "one_hot_encoder = OneHotEncoder()\n",
    "housing_treated = one_hot_encoder.fit_transform(housing[[\"ocean_proximity\"]])\n",
    "\n",
    "housing[one_hot_encoder.categories_[0]] = housing_treated.toarray() "
   ]
  },
  {
   "cell_type": "code",
   "execution_count": null,
   "id": "38c214d6-d18d-4311-ad5f-e5ec3b82d100",
   "metadata": {},
   "outputs": [
    {
     "data": {
      "text/html": [
       "<div>\n",
       "<style scoped>\n",
       "    .dataframe tbody tr th:only-of-type {\n",
       "        vertical-align: middle;\n",
       "    }\n",
       "\n",
       "    .dataframe tbody tr th {\n",
       "        vertical-align: top;\n",
       "    }\n",
       "\n",
       "    .dataframe thead th {\n",
       "        text-align: right;\n",
       "    }\n",
       "</style>\n",
       "<table border=\"1\" class=\"dataframe\">\n",
       "  <thead>\n",
       "    <tr style=\"text-align: right;\">\n",
       "      <th></th>\n",
       "      <th>longitude</th>\n",
       "      <th>latitude</th>\n",
       "      <th>housing_median_age</th>\n",
       "      <th>total_rooms</th>\n",
       "      <th>total_bedrooms</th>\n",
       "      <th>population</th>\n",
       "      <th>households</th>\n",
       "      <th>median_income</th>\n",
       "      <th>median_house_value</th>\n",
       "      <th>&lt;1H OCEAN</th>\n",
       "      <th>INLAND</th>\n",
       "      <th>ISLAND</th>\n",
       "      <th>NEAR BAY</th>\n",
       "      <th>NEAR OCEAN</th>\n",
       "    </tr>\n",
       "  </thead>\n",
       "  <tbody>\n",
       "    <tr>\n",
       "      <th>12655</th>\n",
       "      <td>-121.46</td>\n",
       "      <td>38.52</td>\n",
       "      <td>29.0</td>\n",
       "      <td>3873.0</td>\n",
       "      <td>797.0</td>\n",
       "      <td>2237.0</td>\n",
       "      <td>706.0</td>\n",
       "      <td>2.1736</td>\n",
       "      <td>72100.0</td>\n",
       "      <td>0.0</td>\n",
       "      <td>1.0</td>\n",
       "      <td>0.0</td>\n",
       "      <td>0.0</td>\n",
       "      <td>0.0</td>\n",
       "    </tr>\n",
       "    <tr>\n",
       "      <th>15502</th>\n",
       "      <td>-117.23</td>\n",
       "      <td>33.09</td>\n",
       "      <td>7.0</td>\n",
       "      <td>5320.0</td>\n",
       "      <td>855.0</td>\n",
       "      <td>2015.0</td>\n",
       "      <td>768.0</td>\n",
       "      <td>6.3373</td>\n",
       "      <td>279600.0</td>\n",
       "      <td>0.0</td>\n",
       "      <td>0.0</td>\n",
       "      <td>0.0</td>\n",
       "      <td>0.0</td>\n",
       "      <td>1.0</td>\n",
       "    </tr>\n",
       "    <tr>\n",
       "      <th>2908</th>\n",
       "      <td>-119.04</td>\n",
       "      <td>35.37</td>\n",
       "      <td>44.0</td>\n",
       "      <td>1618.0</td>\n",
       "      <td>310.0</td>\n",
       "      <td>667.0</td>\n",
       "      <td>300.0</td>\n",
       "      <td>2.8750</td>\n",
       "      <td>82700.0</td>\n",
       "      <td>0.0</td>\n",
       "      <td>1.0</td>\n",
       "      <td>0.0</td>\n",
       "      <td>0.0</td>\n",
       "      <td>0.0</td>\n",
       "    </tr>\n",
       "    <tr>\n",
       "      <th>14053</th>\n",
       "      <td>-117.13</td>\n",
       "      <td>32.75</td>\n",
       "      <td>24.0</td>\n",
       "      <td>1877.0</td>\n",
       "      <td>519.0</td>\n",
       "      <td>898.0</td>\n",
       "      <td>483.0</td>\n",
       "      <td>2.2264</td>\n",
       "      <td>112500.0</td>\n",
       "      <td>0.0</td>\n",
       "      <td>0.0</td>\n",
       "      <td>0.0</td>\n",
       "      <td>0.0</td>\n",
       "      <td>1.0</td>\n",
       "    </tr>\n",
       "    <tr>\n",
       "      <th>20496</th>\n",
       "      <td>-118.70</td>\n",
       "      <td>34.28</td>\n",
       "      <td>27.0</td>\n",
       "      <td>3536.0</td>\n",
       "      <td>646.0</td>\n",
       "      <td>1837.0</td>\n",
       "      <td>580.0</td>\n",
       "      <td>4.4964</td>\n",
       "      <td>238300.0</td>\n",
       "      <td>1.0</td>\n",
       "      <td>0.0</td>\n",
       "      <td>0.0</td>\n",
       "      <td>0.0</td>\n",
       "      <td>0.0</td>\n",
       "    </tr>\n",
       "    <tr>\n",
       "      <th>...</th>\n",
       "      <td>...</td>\n",
       "      <td>...</td>\n",
       "      <td>...</td>\n",
       "      <td>...</td>\n",
       "      <td>...</td>\n",
       "      <td>...</td>\n",
       "      <td>...</td>\n",
       "      <td>...</td>\n",
       "      <td>...</td>\n",
       "      <td>...</td>\n",
       "      <td>...</td>\n",
       "      <td>...</td>\n",
       "      <td>...</td>\n",
       "      <td>...</td>\n",
       "    </tr>\n",
       "    <tr>\n",
       "      <th>15174</th>\n",
       "      <td>-117.07</td>\n",
       "      <td>33.03</td>\n",
       "      <td>14.0</td>\n",
       "      <td>6665.0</td>\n",
       "      <td>1231.0</td>\n",
       "      <td>2026.0</td>\n",
       "      <td>1001.0</td>\n",
       "      <td>5.0900</td>\n",
       "      <td>268500.0</td>\n",
       "      <td>1.0</td>\n",
       "      <td>0.0</td>\n",
       "      <td>0.0</td>\n",
       "      <td>0.0</td>\n",
       "      <td>0.0</td>\n",
       "    </tr>\n",
       "    <tr>\n",
       "      <th>12661</th>\n",
       "      <td>-121.42</td>\n",
       "      <td>38.51</td>\n",
       "      <td>15.0</td>\n",
       "      <td>7901.0</td>\n",
       "      <td>1422.0</td>\n",
       "      <td>4769.0</td>\n",
       "      <td>1418.0</td>\n",
       "      <td>2.8139</td>\n",
       "      <td>90400.0</td>\n",
       "      <td>0.0</td>\n",
       "      <td>1.0</td>\n",
       "      <td>0.0</td>\n",
       "      <td>0.0</td>\n",
       "      <td>0.0</td>\n",
       "    </tr>\n",
       "    <tr>\n",
       "      <th>19263</th>\n",
       "      <td>-122.72</td>\n",
       "      <td>38.44</td>\n",
       "      <td>48.0</td>\n",
       "      <td>707.0</td>\n",
       "      <td>166.0</td>\n",
       "      <td>458.0</td>\n",
       "      <td>172.0</td>\n",
       "      <td>3.1797</td>\n",
       "      <td>140400.0</td>\n",
       "      <td>1.0</td>\n",
       "      <td>0.0</td>\n",
       "      <td>0.0</td>\n",
       "      <td>0.0</td>\n",
       "      <td>0.0</td>\n",
       "    </tr>\n",
       "    <tr>\n",
       "      <th>19140</th>\n",
       "      <td>-122.70</td>\n",
       "      <td>38.31</td>\n",
       "      <td>14.0</td>\n",
       "      <td>3155.0</td>\n",
       "      <td>580.0</td>\n",
       "      <td>1208.0</td>\n",
       "      <td>501.0</td>\n",
       "      <td>4.1964</td>\n",
       "      <td>258100.0</td>\n",
       "      <td>1.0</td>\n",
       "      <td>0.0</td>\n",
       "      <td>0.0</td>\n",
       "      <td>0.0</td>\n",
       "      <td>0.0</td>\n",
       "    </tr>\n",
       "    <tr>\n",
       "      <th>19773</th>\n",
       "      <td>-122.14</td>\n",
       "      <td>39.97</td>\n",
       "      <td>27.0</td>\n",
       "      <td>1079.0</td>\n",
       "      <td>222.0</td>\n",
       "      <td>625.0</td>\n",
       "      <td>197.0</td>\n",
       "      <td>3.1319</td>\n",
       "      <td>62700.0</td>\n",
       "      <td>0.0</td>\n",
       "      <td>1.0</td>\n",
       "      <td>0.0</td>\n",
       "      <td>0.0</td>\n",
       "      <td>0.0</td>\n",
       "    </tr>\n",
       "  </tbody>\n",
       "</table>\n",
       "<p>16512 rows × 14 columns</p>\n",
       "</div>"
      ],
      "text/plain": [
       "       longitude  latitude  housing_median_age  total_rooms  total_bedrooms  \\\n",
       "12655    -121.46     38.52                29.0       3873.0           797.0   \n",
       "15502    -117.23     33.09                 7.0       5320.0           855.0   \n",
       "2908     -119.04     35.37                44.0       1618.0           310.0   \n",
       "14053    -117.13     32.75                24.0       1877.0           519.0   \n",
       "20496    -118.70     34.28                27.0       3536.0           646.0   \n",
       "...          ...       ...                 ...          ...             ...   \n",
       "15174    -117.07     33.03                14.0       6665.0          1231.0   \n",
       "12661    -121.42     38.51                15.0       7901.0          1422.0   \n",
       "19263    -122.72     38.44                48.0        707.0           166.0   \n",
       "19140    -122.70     38.31                14.0       3155.0           580.0   \n",
       "19773    -122.14     39.97                27.0       1079.0           222.0   \n",
       "\n",
       "       population  households  median_income  median_house_value  <1H OCEAN  \\\n",
       "12655      2237.0       706.0         2.1736             72100.0        0.0   \n",
       "15502      2015.0       768.0         6.3373            279600.0        0.0   \n",
       "2908        667.0       300.0         2.8750             82700.0        0.0   \n",
       "14053       898.0       483.0         2.2264            112500.0        0.0   \n",
       "20496      1837.0       580.0         4.4964            238300.0        1.0   \n",
       "...           ...         ...            ...                 ...        ...   \n",
       "15174      2026.0      1001.0         5.0900            268500.0        1.0   \n",
       "12661      4769.0      1418.0         2.8139             90400.0        0.0   \n",
       "19263       458.0       172.0         3.1797            140400.0        1.0   \n",
       "19140      1208.0       501.0         4.1964            258100.0        1.0   \n",
       "19773       625.0       197.0         3.1319             62700.0        0.0   \n",
       "\n",
       "       INLAND  ISLAND  NEAR BAY  NEAR OCEAN  \n",
       "12655     1.0     0.0       0.0         0.0  \n",
       "15502     0.0     0.0       0.0         1.0  \n",
       "2908      1.0     0.0       0.0         0.0  \n",
       "14053     0.0     0.0       0.0         1.0  \n",
       "20496     0.0     0.0       0.0         0.0  \n",
       "...       ...     ...       ...         ...  \n",
       "15174     0.0     0.0       0.0         0.0  \n",
       "12661     1.0     0.0       0.0         0.0  \n",
       "19263     0.0     0.0       0.0         0.0  \n",
       "19140     0.0     0.0       0.0         0.0  \n",
       "19773     1.0     0.0       0.0         0.0  \n",
       "\n",
       "[16512 rows x 14 columns]"
      ]
     },
     "execution_count": 291,
     "metadata": {},
     "output_type": "execute_result"
    }
   ],
   "source": [
    "housing_ready = housing.drop(\"ocean_proximity\", axis=1)\n",
    "housing_ready"
   ]
  },
  {
   "cell_type": "code",
   "execution_count": null,
   "id": "80924cb7-4d51-40eb-8e66-a48f5ea8a5a1",
   "metadata": {},
   "outputs": [],
   "source": [
    "# housing_prepared[0]"
   ]
  },
  {
   "cell_type": "code",
   "execution_count": null,
   "id": "da30b0d8-d6bd-4440-9c14-9f835b614a7b",
   "metadata": {},
   "outputs": [],
   "source": [
    "# full_pipeline.fit_transform(housing_ready)[0]"
   ]
  },
  {
   "cell_type": "code",
   "execution_count": null,
   "id": "cf3aac52-c015-4fa9-a446-ba5edf4dc49d",
   "metadata": {},
   "outputs": [
    {
     "data": {
      "text/plain": [
       "GridSearchCV(cv=5,\n",
       "             estimator=Pipeline(steps=[('transformations',\n",
       "                                        ColumnTransformer(transformers=[('num',\n",
       "                                                                         Pipeline(steps=[('imputer',\n",
       "                                                                                          SimpleImputer(strategy='median')),\n",
       "                                                                                         ('attribs_adder',\n",
       "                                                                                          CombinedAttributesAdder()),\n",
       "                                                                                         ('std_scaler',\n",
       "                                                                                          StandardScaler())]),\n",
       "                                                                         ['longitude',\n",
       "                                                                          'latitude',\n",
       "                                                                          'housing_median_age',\n",
       "                                                                          'total_rooms',\n",
       "                                                                          'total_bedrooms',\n",
       "                                                                          'population',\n",
       "                                                                          'households',\n",
       "                                                                          'median_income']),\n",
       "                                                                        ('cat',\n",
       "                                                                         'passthrough',\n",
       "                                                                         ['INLAND',\n",
       "                                                                          'NEAR '\n",
       "                                                                          'OCEAN',\n",
       "                                                                          '<1H '\n",
       "                                                                          'OCEAN',\n",
       "                                                                          'NEAR '\n",
       "                                                                          'BAY',\n",
       "                                                                          'ISLAND'])])),\n",
       "                                       ('model',\n",
       "                                        RandomForestRegressor(random_state=42))]),\n",
       "             param_grid=[{'model__max_features': [2, 4, 6, 8],\n",
       "                          'model__n_estimators': [3, 10, 30],\n",
       "                          'transformations__num__attribs_adder__add_bedrooms_per_room': [False]}],\n",
       "             return_train_score=True, scoring='neg_mean_squared_error')"
      ]
     },
     "execution_count": 299,
     "metadata": {},
     "output_type": "execute_result"
    }
   ],
   "source": [
    "param_grid = [\n",
    "    {\"model__n_estimators\": [3, 10, 30], 'model__max_features': [2, 4, 6, 8], \"transformations__num__attribs_adder__add_bedrooms_per_room\": [False]},\n",
    "    # {'model__bootstrap': [False], 'model__n_estimators': [3, 10], 'model__max_features': [2, 3, 4]}\n",
    "]\n",
    "\n",
    "\n",
    "grid_search = GridSearchCV(final_pipeline, param_grid, cv=5, scoring=\"neg_mean_squared_error\", return_train_score = True)\n",
    "\n",
    "grid_search.fit(housing_ready, housing_labels)"
   ]
  },
  {
   "cell_type": "code",
   "execution_count": null,
   "id": "4a136a58-5f68-42bd-94fb-b56e0d29f67f",
   "metadata": {},
   "outputs": [
    {
     "data": {
      "text/plain": [
       "{'model__max_features': 6,\n",
       " 'model__n_estimators': 30,\n",
       " 'transformations__num__attribs_adder__add_bedrooms_per_room': False}"
      ]
     },
     "execution_count": 300,
     "metadata": {},
     "output_type": "execute_result"
    }
   ],
   "source": [
    "grid_search.best_params_"
   ]
  },
  {
   "cell_type": "code",
   "execution_count": null,
   "id": "590abff0-7f51-450a-89d3-12b543f57d74",
   "metadata": {},
   "outputs": [
    {
     "data": {
      "text/plain": [
       "15"
      ]
     },
     "execution_count": 301,
     "metadata": {},
     "output_type": "execute_result"
    }
   ],
   "source": [
    "grid_search.best_estimator_.named_steps[\"transformations\"].transform(housing_ready).shape[1]"
   ]
  },
  {
   "cell_type": "code",
   "execution_count": null,
   "id": "06aa46ee-ccba-4bcb-93c3-3e91ed835a26",
   "metadata": {},
   "outputs": [
    {
     "data": {
      "text/plain": [
       "array(['longitude', 'latitude', 'housing_median_age', 'total_rooms',\n",
       "       'total_bedrooms', 'population', 'households', 'median_income',\n",
       "       'median_house_value', '<1H OCEAN', 'INLAND', 'ISLAND', 'NEAR BAY',\n",
       "       'NEAR OCEAN'], dtype=object)"
      ]
     },
     "execution_count": 302,
     "metadata": {},
     "output_type": "execute_result"
    }
   ],
   "source": [
    "grid_search.feature_names_in_"
   ]
  },
  {
   "cell_type": "code",
   "execution_count": null,
   "id": "c0a0e553-eaf2-48a2-84a5-e092afbf3f26",
   "metadata": {},
   "outputs": [
    {
     "data": {
      "text/plain": [
       "14"
      ]
     },
     "execution_count": 303,
     "metadata": {},
     "output_type": "execute_result"
    }
   ],
   "source": [
    "grid_search.n_features_in_"
   ]
  },
  {
   "cell_type": "code",
   "execution_count": null,
   "id": "86a94695-d6b4-453b-99f7-5893f4d68dcd",
   "metadata": {},
   "outputs": [
    {
     "name": "stdout",
     "output_type": "stream",
     "text": [
      "63575.9739672717 {'model__max_features': 2, 'model__n_estimators': 3, 'transformations__num__attribs_adder__add_bedrooms_per_room': False}\n",
      "55934.295008652516 {'model__max_features': 2, 'model__n_estimators': 10, 'transformations__num__attribs_adder__add_bedrooms_per_room': False}\n",
      "52528.2390678022 {'model__max_features': 2, 'model__n_estimators': 30, 'transformations__num__attribs_adder__add_bedrooms_per_room': False}\n",
      "58874.541629771884 {'model__max_features': 4, 'model__n_estimators': 3, 'transformations__num__attribs_adder__add_bedrooms_per_room': False}\n",
      "51945.43067586159 {'model__max_features': 4, 'model__n_estimators': 10, 'transformations__num__attribs_adder__add_bedrooms_per_room': False}\n",
      "49420.54023703712 {'model__max_features': 4, 'model__n_estimators': 30, 'transformations__num__attribs_adder__add_bedrooms_per_room': False}\n",
      "58791.25871270213 {'model__max_features': 6, 'model__n_estimators': 3, 'transformations__num__attribs_adder__add_bedrooms_per_room': False}\n",
      "51656.9318014044 {'model__max_features': 6, 'model__n_estimators': 10, 'transformations__num__attribs_adder__add_bedrooms_per_room': False}\n",
      "49261.86960607456 {'model__max_features': 6, 'model__n_estimators': 30, 'transformations__num__attribs_adder__add_bedrooms_per_room': False}\n",
      "57809.890137040245 {'model__max_features': 8, 'model__n_estimators': 3, 'transformations__num__attribs_adder__add_bedrooms_per_room': False}\n",
      "51988.846786614566 {'model__max_features': 8, 'model__n_estimators': 10, 'transformations__num__attribs_adder__add_bedrooms_per_room': False}\n",
      "49985.547058081094 {'model__max_features': 8, 'model__n_estimators': 30, 'transformations__num__attribs_adder__add_bedrooms_per_room': False}\n"
     ]
    }
   ],
   "source": [
    "cvres = grid_search.cv_results_\n",
    "for mean_test_score, params in zip(cvres[\"mean_test_score\"], cvres[\"params\"]):\n",
    "    print(np.sqrt(-mean_test_score), params)"
   ]
  }
 ],
 "metadata": {
  "kernelspec": {
   "display_name": "Python 3 (ipykernel)",
   "language": "python",
   "name": "python3"
  },
  "language_info": {
   "codemirror_mode": {
    "name": "ipython",
    "version": 3
   },
   "file_extension": ".py",
   "mimetype": "text/x-python",
   "name": "python",
   "nbconvert_exporter": "python",
   "pygments_lexer": "ipython3",
   "version": "3.9.13"
  },
  "widgets": {
   "application/vnd.jupyter.widget-state+json": {
    "state": {},
    "version_major": 2,
    "version_minor": 0
   }
  }
 },
 "nbformat": 4,
 "nbformat_minor": 5
}
