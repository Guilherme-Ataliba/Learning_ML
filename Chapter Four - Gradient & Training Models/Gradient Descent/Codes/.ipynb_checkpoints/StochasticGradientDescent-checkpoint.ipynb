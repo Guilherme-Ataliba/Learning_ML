{
 "cells": [
  {
   "cell_type": "markdown",
   "id": "74faeefb-45c2-4b93-8bdc-133daa69d6e8",
   "metadata": {},
   "source": [
    "# 🔵 Generating Data"
   ]
  },
  {
   "cell_type": "code",
   "execution_count": 41,
   "id": "4da53375-1118-419c-8a5a-615b74e8147b",
   "metadata": {},
   "outputs": [],
   "source": [
    "import numpy as np\n",
    "import matplotlib.pyplot as plt"
   ]
  },
  {
   "cell_type": "markdown",
   "id": "d8efb11d-7072-4503-aaf7-898f48c18857",
   "metadata": {},
   "source": [
    "The original equation is\n",
    "$$y = 4 + 3x + \\text{Gaussian Noise}$$"
   ]
  },
  {
   "cell_type": "code",
   "execution_count": 42,
   "id": "9aac181c-e936-4d00-879b-95fb6b251414",
   "metadata": {},
   "outputs": [
    {
     "data": {
      "text/plain": [
       "array([[0.38053721],\n",
       "       [0.01022517],\n",
       "       [0.05358765],\n",
       "       [1.5779155 ],\n",
       "       [0.57926624],\n",
       "       [1.57496185],\n",
       "       [1.18577875],\n",
       "       [1.27940302],\n",
       "       [1.13466836],\n",
       "       [1.3852194 ],\n",
       "       [1.12078584],\n",
       "       [0.77908154],\n",
       "       [0.78449612],\n",
       "       [1.8520328 ],\n",
       "       [1.74878119],\n",
       "       [1.31845239],\n",
       "       [0.47548034],\n",
       "       [0.60230797],\n",
       "       [0.78031731],\n",
       "       [0.75271015],\n",
       "       [0.62722964],\n",
       "       [1.87957113],\n",
       "       [0.87703224],\n",
       "       [0.07923517],\n",
       "       [1.55531472],\n",
       "       [1.79529266],\n",
       "       [1.21920433],\n",
       "       [0.26969919],\n",
       "       [1.5235408 ],\n",
       "       [1.93618201],\n",
       "       [1.30907799],\n",
       "       [0.21175542],\n",
       "       [1.28894705],\n",
       "       [0.09993181],\n",
       "       [0.63854198],\n",
       "       [1.81947323],\n",
       "       [0.41306095],\n",
       "       [0.13847991],\n",
       "       [1.75402803],\n",
       "       [1.36017566],\n",
       "       [0.80313482],\n",
       "       [1.08427928],\n",
       "       [0.25421209],\n",
       "       [0.06592186],\n",
       "       [0.77501539],\n",
       "       [1.77935766],\n",
       "       [0.10222909],\n",
       "       [0.32271958],\n",
       "       [1.48320546],\n",
       "       [1.64874204],\n",
       "       [1.9890776 ],\n",
       "       [0.13230615],\n",
       "       [1.78513829],\n",
       "       [0.1940259 ],\n",
       "       [1.80620912],\n",
       "       [1.08703027],\n",
       "       [1.19556771],\n",
       "       [0.3576879 ],\n",
       "       [0.70569426],\n",
       "       [1.32521863],\n",
       "       [1.83476131],\n",
       "       [0.34798152],\n",
       "       [1.67117771],\n",
       "       [1.72207071],\n",
       "       [1.15038515],\n",
       "       [0.59773269],\n",
       "       [0.66216947],\n",
       "       [0.24681771],\n",
       "       [1.19552455],\n",
       "       [1.05066357],\n",
       "       [0.06619703],\n",
       "       [1.53118951],\n",
       "       [0.69642254],\n",
       "       [1.75299754],\n",
       "       [1.8912126 ],\n",
       "       [1.29030571],\n",
       "       [0.50671176],\n",
       "       [1.3411571 ],\n",
       "       [0.63553642],\n",
       "       [0.51781785],\n",
       "       [1.79031543],\n",
       "       [0.6318206 ],\n",
       "       [0.2396433 ],\n",
       "       [0.47800088],\n",
       "       [1.94465596],\n",
       "       [0.37520439],\n",
       "       [0.67212396],\n",
       "       [0.76289788],\n",
       "       [1.25294326],\n",
       "       [1.70947306],\n",
       "       [1.99303078],\n",
       "       [1.01952474],\n",
       "       [0.05056267],\n",
       "       [0.25413896],\n",
       "       [0.07646661],\n",
       "       [0.22099889],\n",
       "       [0.87369584],\n",
       "       [0.985968  ],\n",
       "       [1.3163308 ],\n",
       "       [1.39824984]])"
      ]
     },
     "execution_count": 42,
     "metadata": {},
     "output_type": "execute_result"
    }
   ],
   "source": [
    "X = 2 * np.random.rand(100, 1)   # Distribuiçâo uniform com vetor 100x1\n",
    "y = 4 + 3 * X + np.random.randn(100, 1)  # Distribuição Normal com vetor 100x1\n",
    "X"
   ]
  },
  {
   "cell_type": "code",
   "execution_count": 43,
   "id": "ee5247cf-a7c1-4fd8-9d14-fc8b4db44b6e",
   "metadata": {},
   "outputs": [
    {
     "data": {
      "image/png": "[encoded data removed]",
      "text/plain": [
       "<Figure size 500x400 with 1 Axes>"
      ]
     },
     "metadata": {},
     "output_type": "display_data"
    }
   ],
   "source": [
    "# Data\n",
    "plt.figure(figsize=(5,4))\n",
    "plt.scatter(X, y)\n",
    "plt.show()"
   ]
  },
  {
   "cell_type": "markdown",
   "id": "66718cbb-7c34-4fc4-b6f8-cd12e6272c0a",
   "metadata": {},
   "source": [
    "# 🔵 Computing The Normal Equation"
   ]
  },
  {
   "cell_type": "markdown",
   "id": "ed562555-796d-4f7f-8152-ac395bd0cafd",
   "metadata": {},
   "source": [
    "We must add a column of ones to the data to account for the bias term."
   ]
  },
  {
   "cell_type": "code",
   "execution_count": 44,
   "id": "be7a8c30-1e4d-4d77-817c-f5b74f96e97e",
   "metadata": {},
   "outputs": [],
   "source": [
    "X_b = np.c_[np.ones((100, 1)), X]"
   ]
  },
  {
   "cell_type": "code",
   "execution_count": 52,
   "id": "6031a3a8-5714-4c4c-a2af-fd68835261bb",
   "metadata": {},
   "outputs": [
    {
     "data": {
      "text/plain": [
       "array([[3.69624095],\n",
       "       [3.11179555]])"
      ]
     },
     "execution_count": 52,
     "metadata": {},
     "output_type": "execute_result"
    }
   ],
   "source": [
    "theta_best = np.linalg.inv( X_b.T.dot(X_b) ).dot( X_b.T.dot(y) )\n",
    "theta_best"
   ]
  },
  {
   "cell_type": "markdown",
   "id": "690dabcf-946e-447a-8eba-14cb282a4182",
   "metadata": {},
   "source": [
    "## 🔷 Predictions "
   ]
  },
  {
   "cell_type": "code",
   "execution_count": 55,
   "id": "593a725f-ac9b-48cb-b294-0f8b2620b5ea",
   "metadata": {},
   "outputs": [
    {
     "data": {
      "text/plain": [
       "array([[3.69624095],\n",
       "       [9.91983204]])"
      ]
     },
     "execution_count": 55,
     "metadata": {},
     "output_type": "execute_result"
    }
   ],
   "source": [
    "X_new = np.array([[0], [2]])\n",
    "X_new_b = np.c_[np.ones((2, 1)), X_new]\n",
    "y_pred = X_new_b.dot(theta_best)\n",
    "y_pred"
   ]
  },
  {
   "cell_type": "markdown",
   "id": "065c7836-c043-4040-8539-42039ecf7e11",
   "metadata": {},
   "source": [
    "## Plotting"
   ]
  },
  {
   "cell_type": "code",
   "execution_count": 62,
   "id": "a9a418e0-1611-4392-9399-535532cde92b",
   "metadata": {},
   "outputs": [
    {
     "data": {
      "image/png": "[encoded data removed]",
      "text/plain": [
       "<Figure size 640x480 with 1 Axes>"
      ]
     },
     "metadata": {},
     "output_type": "display_data"
    }
   ],
   "source": [
    "plt.plot(X_new, y_pred, \"r-\")\n",
    "plt.plot(X, y, \"b.\")\n",
    "plt.axis([0, 2, 0, 15])\n",
    "plt.show()"
   ]
  }
 ],
 "metadata": {
  "kernelspec": {
   "display_name": "Python 3 (ipykernel)",
   "language": "python",
   "name": "python3"
  },
  "language_info": {
   "codemirror_mode": {
    "name": "ipython",
    "version": 3
   },
   "file_extension": ".py",
   "mimetype": "text/x-python",
   "name": "python",
   "nbconvert_exporter": "python",
   "pygments_lexer": "ipython3",
   "version": "3.9.13"
  },
  "widgets": {
   "application/vnd.jupyter.widget-state+json": {
    "state": {},
    "version_major": 2,
    "version_minor": 0
   }
  }
 },
 "nbformat": 4,
 "nbformat_minor": 5
}
