{
 "cells": [
  {
   "cell_type": "code",
   "execution_count": 1,
   "id": "3dd295d4-5723-43d5-b4d0-446dbefbb160",
   "metadata": {},
   "outputs": [
    {
     "name": "stdout",
     "output_type": "stream",
     "text": [
      "Downloading gdp_per_capita.csv...\n",
      "Downloading oecd_bli_2015.csv...\n"
     ]
    }
   ],
   "source": [
    "import urllib.request\n",
    "import os\n",
    "\n",
    "# we use this method because it'll automatically dected the operating system and how the archives are structured\n",
    "datapath = os.path.join(\"datasets\", \"lifesat\", \"\")\n",
    "\n",
    "DOWNLOAD_ROOT = \"https://raw.githubusercontent.com/ageron/handson-ml2/master/\"\n",
    "os.makedirs(datapath, exist_ok=True)\n",
    "for filename in (\"gdp_per_capita.csv\", \"oecd_bli_2015.csv\"):\n",
    "    print(f\"Downloading {filename}...\")\n",
    "    url = DOWNLOAD_ROOT + \"datasets/lifesat/\" + filename\n",
    "    urllib.request.urlretrieve(url, datapath + filename)"
   ]
  },
  {
   "cell_type": "markdown",
   "id": "cd0a07f8-e402-4cb6-a116-92460a49c05a",
   "metadata": {},
   "source": [
    "# Pivot\n",
    "\n",
    "Here we use `.pivot` pandas's method to make a table from the data, where the indexes are the contries, the columns the indicators and the value the value in question. "
   ]
  },
  {
   "cell_type": "code",
   "execution_count": 2,
   "id": "7a90611c-981c-44ca-9edb-bc4bcdd07768",
   "metadata": {},
   "outputs": [],
   "source": [
    "def prepare_contry_stats(oecd_bli, gdp_per_capita):\n",
    "    oecd_bli = oecd_bli[oecd_bli[\"INEQUALITY\"]==\"TOT\"]\n",
    "    oecd_bli = oecd_bli.pivot(index=\"Country\", columns=\"Indicator\", values=\"Value\")\n",
    "    gdp_per_capita.rename(columns={\"2015\": \"GDP per capita\"}, inplace=True)\n",
    "    \n",
    "    #Definindo o índice como o país\n",
    "    gdp_per_capita.set_index(\"Country\", inplace=True)\n",
    "    \n",
    "    #Juntando os dois dataframos num só\n",
    "    full_country_stats = pd.merge(left=oecd_bli, right=gdp_per_capita,\n",
    "                                 left_index = True, right_index=True)\n",
    "    full_country_stats.sort_values(by=\"GDP per capita\", inplace=True)\n",
    "    \n",
    "    display(full_country_stats[[\"GDP per capita\", \"Life satisfaction\"]].head())\n",
    "    # removing outliers (brazil is index 0)\n",
    "    remove_indices = [0, 1, 6, 8, 33, 34, 35]\n",
    "    keep_indices = list(set(range(36)) - set(remove_indices))\n",
    "    return full_country_stats[[\"GDP per capita\", \"Life satisfaction\"]].iloc[keep_indices]"
   ]
  },
  {
   "cell_type": "code",
   "execution_count": 3,
   "id": "895fd280-f10a-4572-81be-bbae365dea82",
   "metadata": {},
   "outputs": [
    {
     "data": {
      "text/html": [
       "<div>\n",
       "<style scoped>\n",
       "    .dataframe tbody tr th:only-of-type {\n",
       "        vertical-align: middle;\n",
       "    }\n",
       "\n",
       "    .dataframe tbody tr th {\n",
       "        vertical-align: top;\n",
       "    }\n",
       "\n",
       "    .dataframe thead th {\n",
       "        text-align: right;\n",
       "    }\n",
       "</style>\n",
       "<table border=\"1\" class=\"dataframe\">\n",
       "  <thead>\n",
       "    <tr style=\"text-align: right;\">\n",
       "      <th></th>\n",
       "      <th>GDP per capita</th>\n",
       "      <th>Life satisfaction</th>\n",
       "    </tr>\n",
       "    <tr>\n",
       "      <th>Country</th>\n",
       "      <th></th>\n",
       "      <th></th>\n",
       "    </tr>\n",
       "  </thead>\n",
       "  <tbody>\n",
       "    <tr>\n",
       "      <th>Brazil</th>\n",
       "      <td>8669.998</td>\n",
       "      <td>7.0</td>\n",
       "    </tr>\n",
       "    <tr>\n",
       "      <th>Mexico</th>\n",
       "      <td>9009.280</td>\n",
       "      <td>6.7</td>\n",
       "    </tr>\n",
       "    <tr>\n",
       "      <th>Russia</th>\n",
       "      <td>9054.914</td>\n",
       "      <td>6.0</td>\n",
       "    </tr>\n",
       "    <tr>\n",
       "      <th>Turkey</th>\n",
       "      <td>9437.372</td>\n",
       "      <td>5.6</td>\n",
       "    </tr>\n",
       "    <tr>\n",
       "      <th>Hungary</th>\n",
       "      <td>12239.894</td>\n",
       "      <td>4.9</td>\n",
       "    </tr>\n",
       "  </tbody>\n",
       "</table>\n",
       "</div>"
      ],
      "text/plain": [
       "         GDP per capita  Life satisfaction\n",
       "Country                                   \n",
       "Brazil         8669.998                7.0\n",
       "Mexico         9009.280                6.7\n",
       "Russia         9054.914                6.0\n",
       "Turkey         9437.372                5.6\n",
       "Hungary       12239.894                4.9"
      ]
     },
     "metadata": {},
     "output_type": "display_data"
    },
    {
     "data": {
      "image/png": "[encoded data removed]",
      "text/plain": [
       "<Figure size 640x480 with 1 Axes>"
      ]
     },
     "metadata": {},
     "output_type": "display_data"
    }
   ],
   "source": [
    "import pandas as pd\n",
    "import numpy as np\n",
    "import matplotlib.pyplot as plt\n",
    "import seaborn as sns\n",
    "\n",
    "oecd = pd.read_csv(datapath+\"oecd_bli_2015.csv\", thousands=\",\")\n",
    "gdp = pd.read_csv(datapath+\"gdp_per_capita.csv\", thousands=',', delimiter='\\t',\n",
    "                 encoding='latin1', na_values=\"n/a\")\n",
    "\n",
    "\n",
    "country_stats = prepare_contry_stats(oecd, gdp)\n",
    "\n",
    "# np.c_[] is a shorthand for setting the data in a sklearn way\n",
    "X = np.c_[country_stats[\"GDP per capita\"]]\n",
    "y = np.c_[country_stats[\"Life satisfaction\"]]\n",
    "\n",
    "country_stats.plot(kind=\"scatter\", x=\"GDP per capita\", y=\"Life satisfaction\")\n",
    "plt.show()"
   ]
  },
  {
   "cell_type": "code",
   "execution_count": 4,
   "id": "b9fc6a3f-9819-4edd-a229-43f0d997fb8b",
   "metadata": {},
   "outputs": [
    {
     "name": "stdout",
     "output_type": "stream",
     "text": [
      "Life Satisfaction: 5.278883617915584\n"
     ]
    }
   ],
   "source": [
    "import sklearn.linear_model\n",
    "\n",
    "#Choose the model\n",
    "model = sklearn.linear_model.LinearRegression()\n",
    "\n",
    "#Train the model\n",
    "model.fit(X, y)\n",
    "\n",
    "#Make prediction for Brazil\n",
    "X_new = [[8669.998]] #Cyprus GDP per capita\n",
    "print(f\"Life Satisfaction: {model.predict(X_new)[0][0]}\")"
   ]
  },
  {
   "cell_type": "code",
   "execution_count": 5,
   "id": "1b584b7b-0a32-4b3d-a9b6-35ec28c9c56a",
   "metadata": {},
   "outputs": [
    {
     "name": "stdout",
     "output_type": "stream",
     "text": [
      "[[4.91154459e-05]] [4.8530528]\n"
     ]
    },
    {
     "data": {
      "image/png": "[encoded data removed]",
      "text/plain": [
       "<Figure size 640x480 with 1 Axes>"
      ]
     },
     "metadata": {},
     "output_type": "display_data"
    }
   ],
   "source": [
    "print(model.coef_, model.intercept_)\n",
    "\n",
    "x = np.linspace(10000, 60000, 100)\n",
    "country_stats.plot(kind=\"scatter\", x=\"GDP per capita\", y=\"Life satisfaction\")\n",
    "plt.plot(x, model.coef_[0][0]*x + model.intercept_[0])\n",
    "plt.show()"
   ]
  },
  {
   "cell_type": "code",
   "execution_count": 6,
   "id": "1e4fc9ba-41f2-49d3-a9c5-02fd27168325",
   "metadata": {},
   "outputs": [
    {
     "name": "stdout",
     "output_type": "stream",
     "text": [
      "Life Satisfaction: 5.5\n"
     ]
    }
   ],
   "source": [
    "import sklearn.neighbors\n",
    "\n",
    "#Choose the model\n",
    "model = sklearn.neighbors.KNeighborsRegressor(n_neighbors=3)\n",
    "\n",
    "#Train the model\n",
    "model.fit(X, y)\n",
    "\n",
    "#Make prediction for Brazil\n",
    "X_new = [[8669.998]] #Cyprus GDP per capita\n",
    "print(f\"Life Satisfaction: {model.predict(X_new)[0][0]}\")"
   ]
  },
  {
   "cell_type": "markdown",
   "id": "76603eb4-751c-492f-8beb-a92b3d2f1cfd",
   "metadata": {},
   "source": [
    "Brazil is an outlier, thus it cannot predict it very well"
   ]
  }
 ],
 "metadata": {
  "kernelspec": {
   "display_name": "Python 3 (ipykernel)",
   "language": "python",
   "name": "python3"
  },
  "language_info": {
   "codemirror_mode": {
    "name": "ipython",
    "version": 3
   },
   "file_extension": ".py",
   "mimetype": "text/x-python",
   "name": "python",
   "nbconvert_exporter": "python",
   "pygments_lexer": "ipython3",
   "version": "3.9.13"
  },
  "widgets": {
   "application/vnd.jupyter.widget-state+json": {
    "state": {},
    "version_major": 2,
    "version_minor": 0
   }
  }
 },
 "nbformat": 4,
 "nbformat_minor": 5
}
